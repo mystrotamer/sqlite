{
 "cells": [
  {
   "cell_type": "markdown",
   "metadata": {},
   "source": [
    "- 1\n",
    "- **create sqlite** database named **courses**\n",
    "- 2\n",
    "- using **python** + **peewee** :\n",
    "    - 2.1\n",
    "    - **create table Courses** (\n",
    "        - name ,\n",
    "        - price ,\n",
    "        - category(relation) ,\n",
    "        - content)\n",
    "    - 2.2\n",
    "    - create table Category (\n",
    "        - name)\n",
    "    - 2.3\n",
    "    - **create dummy data**(Course) as json or csv (website)\n",
    "    - 2.4\n",
    "    - **insert** data from json or csv **into database**\n",
    "    - 2.5\n",
    "    - **insert** data from excel **into db**\n",
    "    - 2.6\n",
    "    - **get** all **courses**\n",
    "    - 2.7\n",
    "    - **get** how many courses in **each category**\n"
   ]
  },
  {
   "cell_type": "markdown",
   "metadata": {},
   "source": [
    "---\n",
    "---"
   ]
  },
  {
   "cell_type": "markdown",
   "metadata": {},
   "source": [
    "- 1\n",
    "- **create sqlite** database named **courses**"
   ]
  },
  {
   "cell_type": "code",
   "execution_count": 1,
   "metadata": {},
   "outputs": [
    {
     "name": "stdout",
     "output_type": "stream",
     "text": [
      "<class 'peewee.SqliteDatabase'>\n"
     ]
    }
   ],
   "source": [
    "from peewee import(\n",
    "                    SqliteDatabase,\n",
    "                    Model,\n",
    "                    CharField,\n",
    "                    ForeignKeyField,\n",
    "                    TextField,\n",
    "                    IntegerField)\n",
    "\n",
    "db = SqliteDatabase('courses.db')\n",
    "print(f\"{SqliteDatabase}\")"
   ]
  },
  {
   "cell_type": "markdown",
   "metadata": {},
   "source": [
    "---"
   ]
  },
  {
   "cell_type": "markdown",
   "metadata": {},
   "source": [
    "- 2\n",
    "- using **python** + **peewee** :"
   ]
  },
  {
   "cell_type": "markdown",
   "metadata": {},
   "source": [
    "---"
   ]
  },
  {
   "cell_type": "markdown",
   "metadata": {},
   "source": [
    "---"
   ]
  },
  {
   "cell_type": "markdown",
   "metadata": {},
   "source": [
    "- 2.2\n",
    "    - create table Category (\n",
    "        - name)"
   ]
  },
  {
   "cell_type": "code",
   "execution_count": 2,
   "metadata": {},
   "outputs": [
    {
     "name": "stdout",
     "output_type": "stream",
     "text": [
      "<Model: Category>\n"
     ]
    }
   ],
   "source": [
    "class Category(Model):\n",
    "    name = CharField(unique=True)\n",
    "    \n",
    "    class Meta:\n",
    "        database = db\n",
    "print(f\"{Category}\")"
   ]
  },
  {
   "cell_type": "markdown",
   "metadata": {},
   "source": [
    "---"
   ]
  },
  {
   "cell_type": "markdown",
   "metadata": {},
   "source": [
    "- 2.1\n",
    "    - **create table Courses** (\n",
    "        - name ,\n",
    "        - price ,\n",
    "        - category(relation) ,\n",
    "        - content)"
   ]
  },
  {
   "cell_type": "code",
   "execution_count": 3,
   "metadata": {},
   "outputs": [
    {
     "name": "stdout",
     "output_type": "stream",
     "text": [
      "<Model: Course>\n"
     ]
    }
   ],
   "source": [
    "class Course(Model):\n",
    "    name = CharField()\n",
    "    price = IntegerField()\n",
    "    category = ForeignKeyField(Category, backref='courses')\n",
    "    content = TextField()\n",
    "    \n",
    "    class Meta:\n",
    "        database = db\n",
    "print(f\"{Course}\")"
   ]
  },
  {
   "cell_type": "markdown",
   "metadata": {},
   "source": [
    "---"
   ]
  },
  {
   "cell_type": "code",
   "execution_count": 4,
   "metadata": {},
   "outputs": [
    {
     "name": "stdout",
     "output_type": "stream",
     "text": [
      "<class 'peewee.SqliteDatabase'><Model: Category><Model: Category>\n"
     ]
    }
   ],
   "source": [
    "db.connect()\n",
    "db.create_tables([Category, Course])\n",
    "print(f\"{SqliteDatabase}{Category}{Category}\")"
   ]
  },
  {
   "cell_type": "markdown",
   "metadata": {},
   "source": [
    "---"
   ]
  },
  {
   "cell_type": "markdown",
   "metadata": {},
   "source": [
    "- 2.3\n",
    "    - **create dummy data**(Course) as json or csv (website)\n",
    "    "
   ]
  },
  {
   "cell_type": "code",
   "execution_count": 5,
   "metadata": {},
   "outputs": [
    {
     "name": "stdout",
     "output_type": "stream",
     "text": [
      "Data exported to courses_data.csv successfully.\n"
     ]
    }
   ],
   "source": [
    "import csv\n",
    "from faker import Faker\n",
    "\n",
    "faker = Faker()\n",
    "\n",
    "categories = [faker.word() for _ in range(5)] \n",
    "courses_data = []\n",
    "\n",
    "for _ in range(100): \n",
    "    course_name = faker.sentence(nb_words=3)\n",
    "    course_price = faker.random_int(min=100, max=1000)\n",
    "    course_content = faker.text(max_nb_chars=200)\n",
    "    category = faker.random_element(categories)\n",
    "    courses_data.append({\n",
    "        \"name\": course_name,\n",
    "        \"price\": course_price,\n",
    "        \"category\": category,\n",
    "        \"content\": course_content\n",
    "    })\n",
    "\n",
    "with open('courses_data.csv', mode='w', newline='', encoding='utf-8') as file:\n",
    "    writer = csv.DictWriter(file, fieldnames=[\"name\", \"price\", \"category\", \"content\"])\n",
    "    writer.writeheader()\n",
    "    writer.writerows(courses_data)\n",
    "\n",
    "print(\"Data exported to courses_data.csv successfully.\")\n"
   ]
  },
  {
   "cell_type": "markdown",
   "metadata": {},
   "source": [
    "---"
   ]
  },
  {
   "cell_type": "markdown",
   "metadata": {},
   "source": [
    "- 2.4\n",
    "    - **insert** data from json or csv **into database**\n",
    "    "
   ]
  },
  {
   "cell_type": "code",
   "execution_count": 6,
   "metadata": {},
   "outputs": [
    {
     "name": "stdout",
     "output_type": "stream",
     "text": [
      "courses_data.csv\n"
     ]
    }
   ],
   "source": [
    "import csv\n",
    "from peewee import IntegrityError\n",
    "\n",
    "csv_file_path = 'courses_data.csv'\n",
    "\n",
    "with open(csv_file_path, newline='', encoding='utf-8') as csvfile:\n",
    "    reader = csv.DictReader(csvfile)\n",
    "    for row in reader:\n",
    "            category, created = Category.get_or_create(name=row['category'])\n",
    "            \n",
    "            Course.create(\n",
    "                name=row['name'],\n",
    "                price=float(row['price']),\n",
    "                category=category,\n",
    "                content=row['content']\n",
    "            )\n",
    "print(f\"{csv_file_path}\")"
   ]
  },
  {
   "cell_type": "markdown",
   "metadata": {},
   "source": [
    "---"
   ]
  },
  {
   "cell_type": "markdown",
   "metadata": {},
   "source": [
    "- 2.5\n",
    "    - **insert** data from excel **into db**\n",
    "    "
   ]
  },
  {
   "cell_type": "code",
   "execution_count": 7,
   "metadata": {},
   "outputs": [
    {
     "name": "stdout",
     "output_type": "stream",
     "text": [
      "courses_data.xlsx\n"
     ]
    }
   ],
   "source": [
    "from openpyxl import load_workbook\n",
    "import os\n",
    "\n",
    "excel_file_path = 'courses_data.xlsx'\n",
    "workbook = load_workbook(filename=excel_file_path)\n",
    "sheet = workbook.active  \n",
    "\n",
    "\n",
    "for row in sheet.iter_rows(min_row=2, values_only=True):  \n",
    "    name, price, category_name, content = row\n",
    "    category, created = Category.get_or_create(name=category_name)\n",
    "    Course.create(\n",
    "        name=name,\n",
    "        price=price,\n",
    "        category=category,\n",
    "        content=content\n",
    "    )\n",
    "print(f\"{excel_file_path}\")"
   ]
  },
  {
   "cell_type": "markdown",
   "metadata": {},
   "source": [
    "---"
   ]
  },
  {
   "cell_type": "markdown",
   "metadata": {},
   "source": [
    "- 2.6\n",
    "    - **get** all **courses**\n",
    "    "
   ]
  },
  {
   "cell_type": "code",
   "execution_count": 8,
   "metadata": {},
   "outputs": [
    {
     "name": "stdout",
     "output_type": "stream",
     "text": [
      "['Shoulder success travel.', 140, 'wall', 'Young scientist into this. Foot score eat scene. Whatever upon before focus million today.']\n",
      "['Expect will statement.', 791, 'list', 'Night right need structure go attention environment.\\nBlue series seek. Not past camera in environmental quickly cultural. Detail step together inside sound because.']\n",
      "['Per may.', 497, 'story', 'Represent young energy carry. Become rise protect value structure soon bank movie.\\nHuge president campaign source suffer life that. Exist rich president save east respond.']\n",
      "['Personal although common.', 793, 'happen', 'Experience will human soon against nice long. Great happen cause hit participant even. Less perhaps glass key music.\\nSome example now agreement age. Easy safe wear station guess. Above TV popular.']\n",
      "['Present town sign.', 185, 'number', 'Skin may politics factor hope.\\nHundred picture fast fund class. Mother however forward power item rock save. Together late save bag realize among.']\n",
      "['At task.', 902, 'wall', 'Especially still why save soldier still. Time law face. Phone note place state between save almost.']\n",
      "['Give why four.', 516, 'story', 'Exist season tonight take order arrive weight.\\nExpect partner nor area. Maybe forget test major end establish. Economy property traditional popular put field.']\n",
      "['Choose probably.', 351, 'list', 'Listen go piece example operation. Seven tough end wrong since. Ability wife nearly case alone environmental.']\n",
      "['Security close.', 100, 'story', 'Get traditional fund budget. Same director crime now seat investment hour claim.\\nPurpose article else film. Skill land Congress sure issue lose up. Often four may go test discuss.']\n",
      "['Meet hair.', 731, 'number', 'Thought expect ten while finish itself. Total single anything stop. Style reason stuff say pay rest risk.']\n",
      "['Thus film.', 926, 'happen', 'Seek recent tell name goal part. Opportunity director require step. Modern beat perform finish measure.']\n",
      "['Discover case.', 426, 'list', 'Write film child across whole step. Trip seek play east exactly police.']\n",
      "['Green other.', 398, 'happen', 'North admit resource shoulder top natural then well. Begin offer explain test.\\nTrue medical matter degree sell pull. To heavy win skin film front. Guess cultural couple drop summer adult.']\n",
      "['Believe pass do.', 227, 'happen', 'Street image main. Surface general page site resource than far look. Human simple movement hospital mission.']\n",
      "['Carry hotel.', 287, 'happen', 'Could building industry program. Once better manage game wide.\\nAvailable his much skin strategy billion clearly. Computer safe back. Fish culture behind back floor sell.']\n",
      "['Beyond brother radio.', 421, 'wall', 'Specific eight sometimes guess Republican enjoy. Rock service safe agreement individual.\\nCrime structure agent part. Reveal wall thus born leg increase source action.']\n",
      "['Population another claim.', 577, 'list', 'Down evidence recently lose until young. Wide quite head general despite current. Exactly challenge yes couple not.\\nStar work pay two message book.']\n",
      "['Start political.', 695, 'wall', 'They land three plan the. Exist early modern little inside data born.\\nBall appear memory our there certain over later.']\n",
      "['Easy assume stay.', 611, 'wall', 'Picture news consumer turn chance most each cover. Above without life.\\nGoal security institution but most pressure.']\n",
      "['While building.', 686, 'story', 'Improve into movement politics stage action. Dog despite simple oil own.\\nSeek moment age employee. Early letter prepare.\\nAvoid represent throw visit continue. Professor spring laugh.']\n",
      "['Nation positive.', 859, 'story', 'Money cell really even activity experience. Better quickly image response very economy. Camera find wife task occur tell.']\n",
      "['Toward message value.', 984, 'list', 'Story trip necessary wrong standard though. What own four call ask say actually.']\n",
      "['Number probably pick.', 727, 'number', 'Raise across great truth. Thought water floor.\\nGreen describe gas media prove during along clear. Section ago experience my. Rise official require fish executive.']\n",
      "['Summer billion.', 831, 'story', 'Family during seek ground hospital really. Discuss far man western wrong begin woman.\\nLater start wife. Treatment receive six short hand yes light senior.\\nHundred class hit.']\n",
      "['Admit quite.', 972, 'list', 'Reach back pick mission play. Under how receive foreign science ago sing. Per above never thus growth.\\nSituation at mouth. Left share tonight court benefit. Little provide radio doctor friend war.']\n",
      "['Agency fine.', 594, 'wall', 'Age bar lose job. Office keep evening glass why same camera. Simply near yes enjoy agency radio table.\\nDevelop early report. Represent various return modern. Learn huge age none difference.']\n",
      "['White long argue glass.', 576, 'happen', 'Hope fire ground mission spring lawyer. Carry party watch indicate value even.\\nPaper alone price animal. Per or last along it which manage high.\\nFast character agree administration citizen.']\n",
      "['Animal investment.', 412, 'number', 'Natural citizen three rich. Politics goal represent economic race will speak.\\nKid election onto discussion city. Order rock hot just office push.']\n",
      "['Local.', 753, 'story', 'Service unit ask all appear he. Late factor agent church my perform. Maybe cut off run debate.\\nAgent enough truth administration. Source realize relate mind fight she.']\n",
      "['Bed year.', 315, 'story', 'Piece truth wear attorney themselves. Reason mouth couple method yourself.\\nCheck its market believe.']\n",
      "['Describe.', 550, 'list', 'Building medical kid home economic determine nice. Will true lay unit. Certain yeah hospital increase walk but hope.\\nPower view despite doctor difference ten. Clear note teach gas cultural middle.']\n",
      "['Season consider.', 144, 'list', 'Both assume walk four firm present safe political. According debate address usually establish article attention build.']\n",
      "['Situation middle feel.', 478, 'happen', 'Agree their exist foreign organization poor reflect. Win enter others environment.\\nSystem western say process speech finally. Between teacher occur serious. We summer chair.']\n",
      "['Foreign blue.', 740, 'story', 'Management effect everybody best money perform result. Blood or environment large. Spend team environmental fall.']\n",
      "['Expect accept number.', 916, 'number', 'Forget involve your phone none despite. The around material. Almost head news perform then clearly.\\nWith often next just after I. Fight officer church. Ready despite reveal generation.']\n",
      "['Commercial operation.', 133, 'list', 'Send should eight. Budget people campaign relationship send. Quite position you information. Possible here how her six population.']\n",
      "['Garden position.', 223, 'wall', 'Take gun American stop laugh.\\nWhen figure foreign like.\\nArt arrive plant bar PM spend issue. Product agreement while story.\\nBar who finish page beat these bed. War drive by establish court side.']\n",
      "['Decision huge and.', 663, 'story', 'Their shoulder statement officer last respond. Citizen hour bring detail medical.\\nLeg them give west. Magazine matter might so everyone spend stuff.']\n",
      "['Try kid provide.', 523, 'wall', 'Hot appear treat just bar. City establish after we choice. Recognize piece say movie process poor research.']\n",
      "['Product lead.', 769, 'story', 'Anyone suddenly political life recent value. Southern have situation anyone can customer within. Be scientist city institution recently business general.']\n",
      "['Few.', 656, 'story', 'So kid friend relationship trade information tend. Everything stop pick out upon serve term.']\n",
      "['Prove idea region.', 998, 'story', 'Information mind red participant. With choose cell wind nothing add consider wide.']\n",
      "['What billion.', 378, 'number', 'Fast major without TV. Sign citizen concern never.\\nContinue thought part investment anyone eye mind. Billion size call life board though though.']\n",
      "['Central sign.', 450, 'story', 'Close administration life doctor land leader produce.\\nPast most very fine with forward food. Tell though evidence beat skin.']\n",
      "['Protect far seem.', 749, 'wall', 'Take rather education him involve write mean. Part material create become your seem.']\n",
      "['Should white.', 647, 'number', 'Military fly likely continue state language. Adult imagine peace after best glass.']\n",
      "['Peace us.', 165, 'happen', 'Activity young hard argue study risk. Foot mother hear recently factor.\\nDown doctor state. So this for check hospital wall.']\n",
      "['Soon take think.', 713, 'list', 'Source tend act seven. Read night main activity.\\nRelationship administration democratic seek really policy care.']\n",
      "['Wear ask actually.', 856, 'number', 'Strategy hundred within worker seven activity. Power get their although sort. Safe over analysis we oil reflect recently.']\n",
      "['Case determine.', 975, 'story', 'Deal sure six scientist majority around. Appear wonder yourself maybe.\\nMoney Republican ready news. Old clear east expect long participant dream. Outside town thought.']\n",
      "['Change relationship.', 889, 'wall', 'Discuss computer truth program long. Report discuss what church begin concern.\\nApply young all collection.\\nLand father address director onto. Yet game fall low him activity get.']\n",
      "['Any inside.', 923, 'story', 'Politics player agent school final. Agent employee report live. Right wonder task.\\nShoulder throughout list wall. Be two five network doctor include. Office family than imagine.']\n",
      "['Pick a international outside.', 148, 'wall', 'Within name military law.\\nBillion on find middle. Ago seat on. Enjoy environment speech whether open meet.']\n",
      "['Enjoy wonder.', 222, 'list', 'East return leg subject modern. Bring something perhaps up.\\nAgainst here put thing. Property fly theory firm use senior talk. Firm type pick. Recent word community possible expert whether ok.']\n",
      "['Hope enough.', 687, 'story', 'Without sure impact star. Nearly letter win color live play president subject.\\nEach available avoid cover suddenly. Generation long big report system. Feeling try enjoy enough defense pull.']\n",
      "['Tv movement example.', 820, 'story', 'Low less late. Recognize political push system half everybody young.\\nDiscover daughter join. Mind lose including push may. Beat about federal until feel really prove.']\n",
      "['Give interest.', 930, 'story', 'Word place law away environment protect. Today mind economic put your. Standard adult activity.\\nFear decide light artist Mr. Full tonight tough once daughter wrong.']\n",
      "['Anything their despite.', 360, 'number', 'Middle may east writer explain. Stand whatever decade report try style sit available. Brother big rather young check animal develop.']\n",
      "['Through tonight.', 432, 'story', 'Boy before total national. Wind item him red yes statement.\\nNone spend open suddenly into give own. West treatment certainly ago no traditional market. Wait choose more game land discuss on.']\n",
      "['Door need relationship.', 667, 'wall', 'Blue candidate hotel huge benefit. Particular business factor against move plan. Trade next former miss spend whole administration. Must job image staff live.']\n",
      "['Reduce car region.', 471, 'happen', 'Heavy method marriage money. Through decision area left series. Write matter score alone.\\nCommunity leave radio feel compare training. Various from training high however type window.']\n",
      "['Thought in.', 698, 'happen', 'Be successful him hotel. Some thing cover capital bed on tonight.\\nFinish art key see account. End brother safe respond guy responsibility. Stage single spend purpose ahead mouth.']\n",
      "['Forward deal.', 428, 'story', 'Paper town drug law.\\nArtist thought most teacher figure ball. Information turn support interview.']\n",
      "['Top brother consumer.', 681, 'happen', 'Forward science middle call democratic. Ahead bit charge spring head.\\nAll phone trial save. Foreign send instead although.']\n",
      "['Civil lose treat.', 855, 'story', 'Animal church religious week too. Traditional cup red agree name child eat argue. Society specific rich laugh blue behind player very.']\n",
      "['Where travel.', 572, 'happen', 'Business since record public news almost should. Suffer camera nation imagine Democrat crime year. Prevent finally shake remember response would each.']\n",
      "['And head.', 745, 'number', 'Impact during material. Lay itself everyone suggest read forward identify.\\nBed heavy government certain show four. Coach mother something Republican market ok. Chair top ever raise young team fall.']\n",
      "['Water best father.', 473, 'happen', 'Son better catch reveal ask.\\nBase leg Mr citizen debate really deep. Build according good only once.\\nFill responsibility education certain. Us condition to senior stuff huge gas.']\n",
      "['Party clear top.', 878, 'wall', 'Full reduce often. Black what again civil design read someone. Positive professional capital right first right very.\\nCustomer technology back may why science long debate. Yard nothing rest human.']\n",
      "['Another which capital.', 414, 'number', 'Green nation house sure method. Research central main data everything authority relationship.']\n",
      "['Toward daughter become.', 138, 'happen', 'Painting evening mean from. Artist old final mind maybe fall window home.\\nRight guess law pick. Gun piece nice.\\nInvolve our decide recent bit example. Good interest himself trip much.']\n",
      "['Week glass involve.', 379, 'wall', 'None represent sometimes me summer.\\nDegree market during him certainly whether drug approach. Memory power a hot serious medical.']\n",
      "['Society food.', 471, 'list', 'Benefit rise rest size on. Smile go finally game. Hard leader local against.\\nArticle image or second surface street short. Carry without create cup week own.']\n",
      "['How bad.', 590, 'story', 'House put magazine marriage. Cup Mrs majority learn.\\nFar less everyone thus bill. Two war add development trouble me same. Girl nearly nearly.']\n",
      "['Letter area.', 304, 'list', 'Than enough middle adult friend want star. Ask activity personal choice collection capital though. They race concern would scientist give by.\\nThis exist candidate reach. Stage computer sign purpose.']\n",
      "['Well something mission.', 129, 'story', 'Fire use country baby hear service open. Four house action measure sport. Gun plan third relationship across. Business leg cultural course.']\n",
      "['Forward maintain laugh.', 226, 'story', 'Guy it within today. Different we health word.\\nWay always build manager firm.\\nFormer him power could team. Food seat none executive space simply.\\nPerson eat time many. Left important today forward.']\n",
      "['Training avoid try.', 155, 'story', 'Firm experience inside meeting participant center card society. Lose let level couple understand seem. Measure PM police recent difference recognize beautiful.']\n",
      "['Phone.', 940, 'happen', 'Couple claim set could more open. Hotel something music part.\\nNot sport production certainly production require lay. List girl political glass million exactly.']\n",
      "['Campaign road.', 585, 'wall', 'Think call occur contain eight whole. Including from economic can reach floor. Growth list particular mouth large decision tonight.']\n",
      "['Last piece.', 298, 'happen', 'Card pick career he. Kitchen thought light character worker team. Lead significant top police agree. Entire per physical bring behavior.']\n",
      "['Message job impact.', 583, 'wall', 'Food guy reveal provide law democratic word.\\nScientist special six control represent want. Major election give level language former today. Should record box necessary difficult you.']\n",
      "['Customer front could Mrs.', 692, 'story', 'Wish economic light billion huge example particularly. Although our personal air friend. General enjoy seek down.']\n",
      "['Threat father hour.', 488, 'story', 'My member usually business east provide. Reduce strategy fast last. Determine candidate cover.\\nSkill century whom rich certain outside. Friend officer night power.']\n",
      "['Raise continue inside.', 615, 'happen', 'Pretty kitchen conference. When building door evening indeed near something sport. Recent great somebody front.\\nColor body explain draw north science.\\nWhat nearly image if best as.']\n",
      "['Your full.', 101, 'happen', 'Green step scene stuff safe. Remember mouth example. Fine despite husband deal protect general discussion machine.\\nSet memory door improve understand personal watch.']\n",
      "['Leave add.', 335, 'happen', 'Scene design nearly happy industry drop. Establish wall owner beyond east. Send song past activity feel.\\nGuess modern coach year. Bar pretty human great air I.']\n",
      "['Professional account.', 824, 'number', 'State office set whose break summer paper. Claim couple very marriage specific according.\\nArrive wish agreement still among measure. Every evidence name across hundred today.']\n",
      "['It near ask.', 462, 'list', 'Hair room morning arm girl pressure. General loss property soon high care.\\nFriend range throw commercial dinner lead. Do pay apply upon see popular peace. Yeah thing month summer event drop.']\n",
      "['His yard return.', 527, 'wall', 'Through deep through. Magazine behind expert eight. Deal never ever up. Account central indicate country note piece lay.']\n",
      "['No guess point.', 916, 'number', 'Pattern return community. Friend want continue protect oil adult.']\n",
      "['On performance.', 341, 'happen', 'Out authority if move whom. Do also under box young inside.\\nInterview remember site.\\nPeople financial bill ever question break. Fly build skill.']\n",
      "['Husband others spend practice.', 475, 'story', 'Event thus example specific board performance environment. Perhaps strong improve offer one base everyone. Prevent example he treat.']\n",
      "['Coach traditional.', 312, 'list', 'Skill learn offer term central commercial. Ready indicate common deal. Leader huge site age. Baby involve mission candidate child recently concern.']\n",
      "['To record share.', 192, 'happen', 'Explain reach store poor health. Sell value pay four.\\nHusband recognize recently son financial. Instead huge they. Value future huge describe machine.']\n",
      "['Challenge order strong.', 437, 'list', 'Entire per glass later suddenly cover pass listen. Test must size information. Town easy capital. Interview certainly right learn.']\n",
      "['Upon sea able.', 585, 'number', 'Short successful matter value economy level. Ever that left often. New amount measure why.']\n",
      "['Month money.', 315, 'happen', 'Successful exist space job each figure. Best hear economic read significant something professor.']\n",
      "['Although term purpose laugh.', 764, 'story', 'Church or name appear where alone card. Fact concern class college.']\n",
      "['Behind.', 932, 'number', 'Live federal memory performance act kind purpose. Itself hot create his give. Majority yes happy analysis expect every pattern.']\n",
      "['iphone14', 1200, '1', 'apple iphone 14']\n",
      "['macbook pro', 3000, '1', 'apple macbook pro 14 inch']\n",
      "['samsung s24', 1150, '2', 'samsung new AI mobile device']\n",
      "['Oppo new s12', 900, '3', 'Oppo new AI s12 device']\n"
     ]
    }
   ],
   "source": [
    "all_course = Course.select()\n",
    "for cours in all_course:\n",
    "    print([cours.name, cours.price, cours.category.name, cours.content])"
   ]
  },
  {
   "cell_type": "markdown",
   "metadata": {},
   "source": [
    "---"
   ]
  },
  {
   "cell_type": "markdown",
   "metadata": {},
   "source": [
    "- 2.7\n",
    "    - **get** how many courses in **each category**"
   ]
  },
  {
   "cell_type": "code",
   "execution_count": 9,
   "metadata": {},
   "outputs": [
    {
     "name": "stdout",
     "output_type": "stream",
     "text": [
      "1 2\n",
      "2 1\n",
      "3 1\n",
      "happen 22\n",
      "list 16\n",
      "number 15\n",
      "story 30\n",
      "wall 17\n"
     ]
    }
   ],
   "source": [
    "from peewee import fn\n",
    "\n",
    "category_counts = (Course\n",
    "                   .select(Category.name, fn.COUNT(Course.id).alias('course_count'))\n",
    "                   .join(Category)\n",
    "                   .group_by(Category)\n",
    "                   .order_by(Category.name))\n",
    "\n",
    "for count in category_counts:\n",
    "    print(count.category.name, count.course_count)\n"
   ]
  }
 ],
 "metadata": {
  "kernelspec": {
   "display_name": "Python 3",
   "language": "python",
   "name": "python3"
  },
  "language_info": {
   "codemirror_mode": {
    "name": "ipython",
    "version": 3
   },
   "file_extension": ".py",
   "mimetype": "text/x-python",
   "name": "python",
   "nbconvert_exporter": "python",
   "pygments_lexer": "ipython3",
   "version": "3.12.4"
  }
 },
 "nbformat": 4,
 "nbformat_minor": 2
}
